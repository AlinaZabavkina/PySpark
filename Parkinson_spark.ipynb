{
 "cells": [
  {
   "cell_type": "code",
   "execution_count": 408,
   "id": "03d23d7e",
   "metadata": {},
   "outputs": [],
   "source": [
    "from pyspark.sql import SparkSession\n",
    "# from pyspark.sql.functions import *\n",
    "from pyspark.sql import functions as f\n",
    "from functools import reduce\n",
    "from pyspark.sql.types import IntegerType, FloatType, StringType\n",
    "from pyspark.sql.functions import lit, udf, expr, concat, col\n",
    "\n",
    "import pandas as pd\n",
    "import matplotlib.pyplot as plt\n",
    "import seaborn as sns"
   ]
  },
  {
   "cell_type": "code",
   "execution_count": 409,
   "id": "6290c67c",
   "metadata": {},
   "outputs": [],
   "source": [
    "spark = (SparkSession\n",
    "         .builder\n",
    "         .appName(\"Parkinson\")\n",
    "         .getOrCreate())\n",
    "df = spark.read.option('header', 'true').csv('dataset.csv')"
   ]
  },
  {
   "cell_type": "markdown",
   "id": "fc0ae618",
   "metadata": {},
   "source": [
    "## Information of dataframe"
   ]
  },
  {
   "cell_type": "code",
   "execution_count": 410,
   "id": "3228f019",
   "metadata": {},
   "outputs": [
    {
     "name": "stdout",
     "output_type": "stream",
     "text": [
      "root\n",
      " |--  Participant  code : string (nullable = true)\n",
      " |--  Age  (years) : string (nullable = true)\n",
      " |-- Gender: string (nullable = true)\n",
      " |--  Positive  history  of  Parkinson  disease  in  family : string (nullable = true)\n",
      " |--  Age  of  disease  onset  (years) : string (nullable = true)\n",
      " |--  Duration  of  disease  from  first  symptoms  (years) : string (nullable = true)\n",
      " |--  Antidepressant  therapy : string (nullable = true)\n",
      " |--  Antiparkinsonian  medication : string (nullable = true)\n",
      " |--  Antipsychotic  medication : string (nullable = true)\n",
      " |--  Benzodiazepine  medication : string (nullable = true)\n",
      " |--  Levodopa  equivalent  (mg/day) : string (nullable = true)\n",
      " |--  Clonazepam  (mg/day) : string (nullable = true)\n",
      " |--  Overview  of  motor  examination:  Hoehn  &  Yahr  scale  (-) : string (nullable = true)\n",
      " |--  Overview  of  motor  examination:  UPDRS  III  total  (-) : string (nullable = true)\n",
      " |--  18.  Speech : string (nullable = true)\n",
      " |--  19.  Facial  Expression : string (nullable = true)\n",
      " |--  20.  Tremor  at  Rest  -  head : string (nullable = true)\n",
      " |--  20.  Tremor  at  Rest  -  RUE : string (nullable = true)\n",
      " |--  20.  Tremor  at  Rest  -  LUE : string (nullable = true)\n",
      " |--  20.  Tremor  at  Rest  -  RLE : string (nullable = true)\n",
      " |--  20.  Tremor  at  Rest  -  LLE : string (nullable = true)\n",
      " |--  21.  Action  or  Postural  Tremor  -  RUE : string (nullable = true)\n",
      " |--  21.  Action  or  Postural  Tremor  -  LUE : string (nullable = true)\n",
      " |--  22.  Rigidity  -  neck : string (nullable = true)\n",
      " |--  22.  Rigidity  -  RUE : string (nullable = true)\n",
      " |--  22.  Rigidity  -  LUE : string (nullable = true)\n",
      " |--  22.  Rigidity  -  RLE : string (nullable = true)\n",
      " |--  22.  Rigidity  -  LLE : string (nullable = true)\n",
      " |--  23.Finger  Taps  -  RUE : string (nullable = true)\n",
      " |--  23.Finger  Taps  -  LUE : string (nullable = true)\n",
      " |--  24.  Hand  Movements  -  RUE : string (nullable = true)\n",
      " |--  24.  Hand  Movements  -  LUE : string (nullable = true)\n",
      " |--  25.  Rapid  Alternating  Movements  -  RUE : string (nullable = true)\n",
      " |--  25.  Rapid  Alternating  Movements  -  LUE : string (nullable = true)\n",
      " |--  26.  Leg  Agility  -  RLE : string (nullable = true)\n",
      " |--  26.  Leg  Agility  -  LLE : string (nullable = true)\n",
      " |--  27.  Arising  from  Chair   : string (nullable = true)\n",
      " |--  28.  Posture : string (nullable = true)\n",
      " |--  29.  Gait : string (nullable = true)\n",
      " |--  30.  Postural  Stability : string (nullable = true)\n",
      " |--  31.  Body  Bradykinesia  and  Hypokinesia : string (nullable = true)\n",
      " |--  Entropy  of  speech  timing  (-) 41: string (nullable = true)\n",
      " |--  Rate  of  speech  timing  (-/min) 42: string (nullable = true)\n",
      " |--  Acceleration  of  speech  timing  (-/min2) 43: string (nullable = true)\n",
      " |--  Duration  of  pause  intervals  (ms) 44: string (nullable = true)\n",
      " |--  Duration  of  voiced  intervals  (ms) 45: string (nullable = true)\n",
      " |--  Gaping  in-between  voiced  intervals  (-/min) 46: string (nullable = true)\n",
      " |--  Duration  of  unvoiced  stops  (ms) 47: string (nullable = true)\n",
      " |--  Decay  of  unvoiced  fricatives  (‰/min) 48: string (nullable = true)\n",
      " |--  Relative  loudness  of  respiration  (dB) 49: string (nullable = true)\n",
      " |--  Pause  intervals  per  respiration  (-) 50: string (nullable = true)\n",
      " |--  Rate  of  speech  respiration  (-/min) 51: string (nullable = true)\n",
      " |--  Latency  of  respiratory  exchange  (ms) 52: string (nullable = true)\n",
      " |--  Entropy  of  speech  timing  (-) 53: string (nullable = true)\n",
      " |--  Rate  of  speech  timing  (-/min) 54: string (nullable = true)\n",
      " |--  Acceleration  of  speech  timing  (-/min2) 55: string (nullable = true)\n",
      " |--  Duration  of  pause  intervals  (ms) 56: string (nullable = true)\n",
      " |--  Duration  of  voiced  intervals  (ms) 57: string (nullable = true)\n",
      " |--  Gaping  in-between  voiced  Intervals  (-/min) 58: string (nullable = true)\n",
      " |--  Duration  of  unvoiced  stops  (ms) 59: string (nullable = true)\n",
      " |--  Decay  of  unvoiced  fricatives  (‰/min) 60: string (nullable = true)\n",
      " |--  Relative  loudness  of  respiration  (dB) 61: string (nullable = true)\n",
      " |--  Pause  intervals  per  respiration  (-) 62: string (nullable = true)\n",
      " |--  Rate  of  speech  respiration  (-/min) 63: string (nullable = true)\n",
      " |--  Latency  of  respiratory  exchange  (ms) 64: string (nullable = true)\n",
      "\n"
     ]
    }
   ],
   "source": [
    "df.printSchema()"
   ]
  },
  {
   "cell_type": "code",
   "execution_count": 411,
   "id": "f2b6802d",
   "metadata": {},
   "outputs": [
    {
     "name": "stdout",
     "output_type": "stream",
     "text": [
      "+-------------------+--------------+------+-------------------------------------------------------+----------------------------------+-------------------------------------------------------+-------------------------+------------------------------+---------------------------+----------------------------+--------------------------------+----------------------+---------------------------------------------------------------+-----------------------------------------------------------+-------------+-------------------------+--------------------------------+-------------------------------+-------------------------------+-------------------------------+-------------------------------+-------------------------------------------+-------------------------------------------+------------------------+-----------------------+-----------------------+-----------------------+-----------------------+-------------------------+-------------------------+------------------------------+------------------------------+--------------------------------------------+--------------------------------------------+---------------------------+---------------------------+-----------------------------+--------------+-----------+--------------------------+-------------------------------------------+------------------------------------+-------------------------------------+----------------------------------------------+----------------------------------------+-----------------------------------------+--------------------------------------------------+---------------------------------------+--------------------------------------------+---------------------------------------------+-------------------------------------------+------------------------------------------+--------------------------------------------+------------------------------------+-------------------------------------+----------------------------------------------+----------------------------------------+-----------------------------------------+--------------------------------------------------+---------------------------------------+--------------------------------------------+---------------------------------------------+-------------------------------------------+------------------------------------------+--------------------------------------------+\n",
      "| Participant  code | Age  (years) |Gender| Positive  history  of  Parkinson  disease  in  family | Age  of  disease  onset  (years) | Duration  of  disease  from  first  symptoms  (years) | Antidepressant  therapy | Antiparkinsonian  medication | Antipsychotic  medication | Benzodiazepine  medication | Levodopa  equivalent  (mg/day) | Clonazepam  (mg/day) | Overview  of  motor  examination:  Hoehn  &  Yahr  scale  (-) | Overview  of  motor  examination:  UPDRS  III  total  (-) | 18.  Speech | 19.  Facial  Expression | 20.  Tremor  at  Rest  -  head | 20.  Tremor  at  Rest  -  RUE | 20.  Tremor  at  Rest  -  LUE | 20.  Tremor  at  Rest  -  RLE | 20.  Tremor  at  Rest  -  LLE | 21.  Action  or  Postural  Tremor  -  RUE | 21.  Action  or  Postural  Tremor  -  LUE | 22.  Rigidity  -  neck | 22.  Rigidity  -  RUE | 22.  Rigidity  -  LUE | 22.  Rigidity  -  RLE | 22.  Rigidity  -  LLE | 23.Finger  Taps  -  RUE | 23.Finger  Taps  -  LUE | 24.  Hand  Movements  -  RUE | 24.  Hand  Movements  -  LUE | 25.  Rapid  Alternating  Movements  -  RUE | 25.  Rapid  Alternating  Movements  -  LUE | 26.  Leg  Agility  -  RLE | 26.  Leg  Agility  -  LLE | 27.  Arising  from  Chair   | 28.  Posture | 29.  Gait | 30.  Postural  Stability | 31.  Body  Bradykinesia  and  Hypokinesia | Entropy  of  speech  timing  (-) 41| Rate  of  speech  timing  (-/min) 42| Acceleration  of  speech  timing  (-/min2) 43| Duration  of  pause  intervals  (ms) 44| Duration  of  voiced  intervals  (ms) 45| Gaping  in-between  voiced  intervals  (-/min) 46| Duration  of  unvoiced  stops  (ms) 47| Decay  of  unvoiced  fricatives  (‰/min) 48| Relative  loudness  of  respiration  (dB) 49| Pause  intervals  per  respiration  (-) 50| Rate  of  speech  respiration  (-/min) 51| Latency  of  respiratory  exchange  (ms) 52| Entropy  of  speech  timing  (-) 53| Rate  of  speech  timing  (-/min) 54| Acceleration  of  speech  timing  (-/min2) 55| Duration  of  pause  intervals  (ms) 56| Duration  of  voiced  intervals  (ms) 57| Gaping  in-between  voiced  Intervals  (-/min) 58| Duration  of  unvoiced  stops  (ms) 59| Decay  of  unvoiced  fricatives  (‰/min) 60| Relative  loudness  of  respiration  (dB) 61| Pause  intervals  per  respiration  (-) 62| Rate  of  speech  respiration  (-/min) 63| Latency  of  respiratory  exchange  (ms) 64|\n",
      "+-------------------+--------------+------+-------------------------------------------------------+----------------------------------+-------------------------------------------------------+-------------------------+------------------------------+---------------------------+----------------------------+--------------------------------+----------------------+---------------------------------------------------------------+-----------------------------------------------------------+-------------+-------------------------+--------------------------------+-------------------------------+-------------------------------+-------------------------------+-------------------------------+-------------------------------------------+-------------------------------------------+------------------------+-----------------------+-----------------------+-----------------------+-----------------------+-------------------------+-------------------------+------------------------------+------------------------------+--------------------------------------------+--------------------------------------------+---------------------------+---------------------------+-----------------------------+--------------+-----------+--------------------------+-------------------------------------------+------------------------------------+-------------------------------------+----------------------------------------------+----------------------------------------+-----------------------------------------+--------------------------------------------------+---------------------------------------+--------------------------------------------+---------------------------------------------+-------------------------------------------+------------------------------------------+--------------------------------------------+------------------------------------+-------------------------------------+----------------------------------------------+----------------------------------------+-----------------------------------------+--------------------------------------------------+---------------------------------------+--------------------------------------------+---------------------------------------------+-------------------------------------------+------------------------------------------+--------------------------------------------+\n",
      "|               PD01|            58|     F|                                                     No|                                56|                                                      2|                       No|                            No|                         No|                          No|                               0|                     0|                                                            1.5|                                                          8|            0|                        1|                               0|                              0|                              2|                              0|                              2|                                          0|                                          0|                       0|                      0|                      1|                      0|                      0|                        0|                        1|                             0|                             0|                                           0|                                           1|                          0|                          0|                            0|             0|          0|                         0|                                          0|                               1.564|                                  354|                                          6.05|                                     146|                                      264|                                             58.65|                                  31.38|                                      -2.101|                                       -22.47|                                        4.5|                                     21.14|                                         167|                               1.564|                                  333|                                         -2.82|                                     158|                                      318|                                             49.01|                                  22.37|                                       0.588|                                       -19.77|                                          6|                                     13.81|                                         127|\n",
      "|               PD02|            68|     F|                                                     No|                                67|                                                      1|                       No|                            No|                         No|                          No|                               0|                     0|                                                            2.5|                                                         22|            1|                        1|                               0|                              0|                              0|                              0|                              0|                                          1|                                          1|                       1|                      0|                      1|                      1|                      2|                        1|                        2|                             0|                             1|                                           1|                                           2|                          1|                          2|                            0|             1|          0|                         1|                                          1|                               1.564|                                  340|                                         27.52|                                     173|                                      253|                                             48.26|                                  22.38|                                      -1.745|                                       -24.59|                                          7|                                     15.28|                                         163|                               1.569|                                  285|                                           8.2|                                     295|                                      264|                                             40.56|                                  26.88|                                      -0.825|                                       -23.26|                                          4|                                     21.77|                                         313|\n",
      "|               PD03|            68|     M|                                                     No|                                67|                                                      1|                       No|                            No|                         No|                          No|                               0|                     0|                                                              2|                                                         19|            0|                        2|                               0|                              0|                              0|                              0|                              0|                                          0|                                          0|                       2|                      0|                      0|                      2|                      2|                        1|                        1|                             0|                             1|                                           0|                                           0|                          1|                          2|                            0|             3|          0|                         0|                                          2|                                1.55|                                  211|                                         11.97|                                     377|                                      322|                                             47.54|                                  38.12|                                       2.657|                                       -16.89|                                          3|                                     20.76|                                         372|                                1.55|                                  247|                                          4.71|                                     280|                                      317|                                             48.97|                                  22.37|                                      -0.955|                                       -13.29|                                          4|                                     22.52|                                         201|\n",
      "|               PD04|            75|     M|                                                     No|                                73|                                                      2|                       No|                            No|                         No|                          No|                               0|                     0|                                                              2|                                                         24|            0|                        2|                               0|                              1|                              0|                              1|                              0|                                          1|                                          1|                       1|                      1|                      1|                      1|                      1|                        1|                        1|                             2|                             2|                                           1|                                           2|                          1|                          0|                            0|             1|          1|                         0|                                          1|                               1.519|                                  140|                                         -2.49|                                     360|                                      663|                                             13.72|                                  44.88|                                      -0.934|                                       -25.54|                                          1|                                     18.71|                                         119|                               1.539|                                  112|                                         -9.09|                                     397|                                      800|                                             18.69|                                  49.37|                                       0.791|                                       -25.08|                                          2|                                     14.37|                                         151|\n",
      "|               PD05|            61|     M|                                                    Yes|                                60|                                                    0.7|                       No|                            No|                         No|                          No|                               0|                     0|                                                            2.5|                                                         54|            1|                        3|                               3|                              2|                              1|                              1|                              0|                                          1|                                          2|                       3|                      3|                      3|                      1|                      1|                        3|                        4|                             2|                             4|                                           2|                                           3|                          1|                          3|                            1|             2|          1|                         1|                                          2|                               1.543|                                  269|                                          6.72|                                     211|                                      328|                                              42.9|                                  47.12|                                      -0.973|                                       -22.61|                                          5|                                     16.26|                                          78|                                1.56|                                  230|                                         11.77|                                     206|                                      480|                                             33.54|                                  26.87|                                       0.075|                                       -22.32|                                          5|                                     14.61|                                         151|\n",
      "|               PD06|            58|     M|                                                     No|                                58|                                                      1|                       No|                            No|                         No|                          No|                               0|                     0|                                                              2|                                                         29|            1|                        2|                               0|                              0|                              0|                              0|                              0|                                          1|                                          1|                       3|                      2|                      1|                      1|                      1|                        3|                        3|                             2|                             1|                                           1|                                           0|                          1|                          1|                            0|             1|          1|                         0|                                          2|                               1.553|                                  317|                                         24.19|                                     186|                                      286|                                             43.83|                                  33.63|                                       0.921|                                          -25|                                       2.75|                                     27.07|                                         124|                               1.518|                                  181|                                         13.38|                                     611|                                      398|                                             18.18|                                  49.37|                                       1.488|                                       -25.08|                                          2|                                     18.21|                                         593|\n",
      "|               PD07|            79|     M|                                                     No|                                78|                                                      1|                       No|                            No|                         No|                          No|                               0|                     0|                                                            2.5|                                                         29|            0|                        0|                               3|                              2|                              0|                              0|                              0|                                          0|                                          0|                       1|                      2|                      1|                      1|                      2|                        1|                        1|                             1|                             1|                                           1|                                           2|                          1|                          1|                            1|             2|          2|                         1|                                          2|                               1.563|                                  269|                                          2.47|                                     214|                                      310|                                              60.3|                                  20.12|                                      -5.347|                                        -26.2|                                       5.25|                                     16.33|                                         288|                               1.566|                                  289|                                         -1.53|                                     251|                                      278|                                              58.9|                                  22.38|                                       0.174|                                       -23.38|                                          5|                                     17.85|                                         203|\n",
      "|               PD08|            59|     F|                                                     No|                                57|                                                      2|          Yes  (Aurorix) |                            No|                         No|                          No|                               0|                     0|                                                              2|                                                         32|            1|                        2|                               1|                              0|                              0|                              0|                              1|                                          2|                                          2|                       1|                      2|                      0|                      1|                      0|                        3|                        1|                             3|                             2|                                           3|                                           1|                          1|                          1|                            0|             1|          1|                         0|                                          2|                               1.568|                                  338|                                         -4.36|                                     145|                                      272|                                             61.31|                                  25.75|                                       1.084|                                       -20.08|                                        6.5|                                     13.42|                                         128|                               1.573|                                  370|                                         -4.12|                                     118|                                      269|                                             68.65|                                  17.88|                                       0.554|                                       -17.44|                                       13.5|                                      8.21|                                         116|\n",
      "|               PD09|            73|     M|                                                     No|                                72|                                                      1|                       No|                            No|                         No|                          No|                               0|                     0|                                                              2|                                                          6|            0|                        0|                               1|                              0|                              1|                              0|                              0|                                          0|                                          0|                       0|                      0|                      0|                      0|                      0|                        0|                        0|                             1|                             1|                                           0|                                           0|                          0|                          0|                            0|             1|          1|                         0|                                          0|                               1.552|                                  374|                                          11.1|                                     117|                                      265|                                              52.5|                                   23.5|                                       0.269|                                       -15.04|                                       9.25|                                     12.75|                                          87|                               1.559|                                  288|                                          5.25|                                     194|                                      317|                                             53.72|                                  31.37|                                      -0.614|                                       -17.04|                                          4|                                     21.25|                                          81|\n",
      "|               PD10|            66|     M|                                                     No|                                65|                                                      1|         Yes  (Trittico) |                            No|                         No|                          No|                               0|                     0|                                                              2|                                                         22|            1|                        1|                               1|                              1|                              0|                              0|                              0|                                          1|                                          1|                       1|                      1|                      0|                      0|                      0|                        1|                        1|                             1|                             1|                                           1|                                           2|                          1|                          2|                            1|             1|          1|                         0|                                          1|                               1.549|                                  281|                                         16.09|                                     213|                                      323|                                              28.8|                                  42.62|                                       0.562|                                        -23.4|                                        4.5|                                     15.48|                                         112|                               1.556|                                  258|                                          4.99|                                     246|                                      356|                                             38.19|                                  40.37|                                         0.5|                                        -20.2|                                        3.5|                                      15.5|                                          69|\n",
      "|               PD11|            71|     M|                                                     No|                                70|                                                      1|                       No|                            No|                         No|                          No|                               0|                     0|                                                            2.5|                                                         15|            0|                        2|                               0|                              1|                              0|                              0|                              0|                                          1|                                          1|                       1|                      0|                      0|                      0|                      0|                        1|                        2|                             0|                             0|                                           0|                                           1|                          0|                          0|                            0|             2|          1|                         1|                                          1|                               1.537|                                  234|                                         21.82|                                     198|                                      414|                                              26.7|                                   41.5|                                       1.275|                                       -20.73|                                          3|                                     24.68|                                          44|                               1.528|                                  174|                                           1.1|                                     433|                                      519|                                             23.55|                                  40.37|                                      -0.179|                                       -22.97|                                          2|                                     18.99|                                          40|\n",
      "|               PD12|            37|     F|                                                     No|                                32|                                                      5|                       No|                            No|                         No|                          No|                               0|                     0|                                                              2|                                                         36|            0|                        2|                               0|                              0|                              0|                              0|                              0|                                          2|                                          0|                       3|                      3|                      1|                      2|                      1|                        3|                        2|                             3|                             1|                                           4|                                           2|                          3|                          1|                            0|             0|          1|                         0|                                          2|                               1.565|                                  365|                                         -1.28|                                     129|                                      261|                                             70.09|                                  24.63|                                      -1.187|                                       -24.99|                                       6.75|                                     20.68|                                         170|                               1.556|                                  277|                                         -0.81|                                     214|                                      313|                                             50.98|                                  22.38|                                       0.722|                                       -23.71|                                          4|                                     19.25|                                         179|\n",
      "|               PD13|            43|     M|                                                     No|                                37|                                                      6|                       No|                            No|                         No|                          No|                               0|                     0|                                                              2|                                                         11|            0|                        0|                               0|                              1|                              0|                              1|                              0|                                          1|                                          1|                       0|                      0|                      1|                      0|                      1|                        0|                        1|                             0|                             1|                                           0|                                           1|                          0|                          1|                            0|             1|          0|                         0|                                          0|                               1.549|                                  301|                                         -1.73|                                     224|                                      280|                                             35.87|                                  25.75|                                      -2.067|                                       -23.49|                                       3.75|                                     24.32|                                         190|                               1.514|                                  342|                                          3.33|                                     261|                                      248|                                             21.76|                                  26.87|                                       -0.12|                                       -21.98|                                          3|                                     21.11|                                         189|\n",
      "|               PD14|            70|     M|                                                     No|                                69|                                                      1|                       No|                            No|                         No|                          No|                               0|                     0|                                                            2.5|                                                         18|            0|                        1|                               0|                              0|                              0|                              0|                              0|                                          1|                                          1|                       1|                      1|                      0|                      1|                      0|                        2|                        1|                             1|                             1|                                           1|                                           0|                          1|                          0|                            0|             2|          1|                         1|                                          1|                               1.555|                                  338|                                        -12.49|                                     146|                                      296|                                             38.03|                                  24.63|                                       -3.38|                                       -22.59|                                        5.5|                                     13.67|                                         131|                               1.573|                                  273|                                         11.04|                                     295|                                      264|                                             57.91|                                  31.38|                                       0.724|                                       -19.23|                                          5|                                      16.5|                                         193|\n",
      "|               PD15|            75|     F|                                                     No|                                73|                                                    2.5|                       No|                            No|                         No|                          No|                               0|                     0|                                                              2|                                                         25|            0|                        1|                               1|                              0|                              0|                              0|                              1|                                          1|                                          1|                       1|                      2|                      0|                      1|                      1|                        2|                        1|                             2|                             1|                                           3|                                           1|                          2|                          1|                            0|             0|          1|                         0|                                          1|                               1.563|                                  347|                                         23.14|                                     153|                                      257|                                             57.68|                                  26.87|                                      -1.835|                                       -24.66|                                        5.5|                                     16.76|                                         200|                               1.563|                                  279|                                          8.41|                                     322|                                      264|                                             44.66|                                  35.87|                                       -0.76|                                       -22.32|                                        3.5|                                     20.06|                                         218|\n",
      "|               PD16|            64|     F|                                                     No|                                63|                                                      1|                       No|                            No|                         No|            Yes  (Rivotril) |                               0|                   0.5|                                                            1.5|                                                          9|            1|                        0|                               0|                              0|                              1|                              0|                              0|                                          0|                                          1|                       0|                      0|                      1|                      0|                      0|                        0|                        1|                             0|                             1|                                           0|                                           0|                          0|                          1|                            0|             0|          1|                         1|                                          0|                               1.544|                                  386|                                          6.89|                                     137|                                      245|                                             52.93|                                     28|                                      -1.402|                                        -21.6|                                          5|                                      17.7|                                         101|                                1.55|                                  297|                                         -5.88|                                     195|                                      307|                                              53.1|                                  35.87|                                       0.628|                                       -18.86|                                          3|                                     13.44|                                          67|\n",
      "|               PD17|            73|     F|                                                     No|                                71|                                                      2|                       No|                            No|                         No|                          No|                               0|                     0|                                                            2.5|                                                         29|            1|                        1|                               2|                              0|                              0|                              0|                              0|                                          0|                                          0|                       0|                      1|                      1|                      1|                      0|                        0|                        1|                             2|                             3|                                           3|                                           3|                          1|                          1|                            1|             3|          1|                         1|                                          2|                               1.566|                                  339|                                         15.12|                                     146|                                      270|                                             77.13|                                  31.38|                                      -5.548|                                       -18.34|                                          6|                                      15.8|                                         142|                               1.569|                                  324|                                         -5.26|                                     198|                                      258|                                              60.9|                                  22.37|                                       0.317|                                        -15.8|                                          6|                                     18.86|                                         202|\n",
      "|               PD18|            73|     M|                                                     No|                                72|                                                      1|                       No|                            No|                         No|                          No|                               0|                     0|                                                              2|                                                         14|            1|                        2|                               0|                              0|                              0|                              0|                              0|                                          1|                                          0|                       2|                      1|                      0|                      1|                      0|                        2|                        1|                             0|                             0|                                           0|                                           0|                          0|                          0|                            0|             1|          1|                         0|                                          1|                                1.56|                                  298|                                         17.84|                                     187|                                      313|                                             38.79|                                  31.38|                                      -6.643|                                       -24.43|                                          7|                                     11.63|                                          79|                               1.515|                                  278|                                         -2.82|                                     320|                                      316|                                             29.35|                                  35.87|                                      -0.088|                                       -25.14|                                          3|                                     19.11|                                         174|\n",
      "|               PD19|            34|     M|                                                     No|                                30|                                                      4|                       No|                            No|                         No|                          No|                               0|                     0|                                                            2.5|                                                         12|            0|                        0|                               1|                              1|                              0|                              0|                              0|                                          0|                                          1|                       0|                      0|                      0|                      0|                      0|                        0|                        0|                             0|                             2|                                           0|                                           1|                          0|                          2|                            0|             0|          2|                         1|                                          1|                               1.547|                                  263|                                         -4.82|                                     245|                                      326|                                             40.11|                                  33.62|                                      -0.042|                                       -22.09|                                        3.5|                                     20.62|                                         136|                               1.562|                                  295|                                         -0.17|                                     225|                                      313|                                             46.69|                                  22.37|                                       1.249|                                       -21.23|                                          4|                                     16.59|                                          49|\n",
      "|               PD20|            70|     M|                                                     No|                                69|                                                      1|                       No|                            No|                         No|                          No|                               0|                     0|                                                              2|                                                          9|            0|                        1|                               0|                              2|                              1|                              0|                              0|                                          1|                                          1|                       0|                      0|                      0|                      0|                      0|                        0|                        1|                             0|                             0|                                           0|                                           1|                          0|                          0|                            0|             1|          0|                         0|                                          0|                               1.558|                                  312|                                         17.27|                                     140|                                      285|                                             49.76|                                  22.38|                                       -3.22|                                          -25|                                       4.75|                                     16.91|                                          81|                               1.555|                                  283|                                         -1.06|                                     224|                                      310|                                             34.77|                                  22.38|                                       -0.32|                                       -20.82|                                          5|                                     14.55|                                         118|\n",
      "+-------------------+--------------+------+-------------------------------------------------------+----------------------------------+-------------------------------------------------------+-------------------------+------------------------------+---------------------------+----------------------------+--------------------------------+----------------------+---------------------------------------------------------------+-----------------------------------------------------------+-------------+-------------------------+--------------------------------+-------------------------------+-------------------------------+-------------------------------+-------------------------------+-------------------------------------------+-------------------------------------------+------------------------+-----------------------+-----------------------+-----------------------+-----------------------+-------------------------+-------------------------+------------------------------+------------------------------+--------------------------------------------+--------------------------------------------+---------------------------+---------------------------+-----------------------------+--------------+-----------+--------------------------+-------------------------------------------+------------------------------------+-------------------------------------+----------------------------------------------+----------------------------------------+-----------------------------------------+--------------------------------------------------+---------------------------------------+--------------------------------------------+---------------------------------------------+-------------------------------------------+------------------------------------------+--------------------------------------------+------------------------------------+-------------------------------------+----------------------------------------------+----------------------------------------+-----------------------------------------+--------------------------------------------------+---------------------------------------+--------------------------------------------+---------------------------------------------+-------------------------------------------+------------------------------------------+--------------------------------------------+\n",
      "only showing top 20 rows\n",
      "\n"
     ]
    }
   ],
   "source": [
    "df.show()"
   ]
  },
  {
   "cell_type": "code",
   "execution_count": 412,
   "id": "11423dd2",
   "metadata": {},
   "outputs": [
    {
     "data": {
      "text/html": [
       "<div>\n",
       "<style scoped>\n",
       "    .dataframe tbody tr th:only-of-type {\n",
       "        vertical-align: middle;\n",
       "    }\n",
       "\n",
       "    .dataframe tbody tr th {\n",
       "        vertical-align: top;\n",
       "    }\n",
       "\n",
       "    .dataframe thead th {\n",
       "        text-align: right;\n",
       "    }\n",
       "</style>\n",
       "<table border=\"1\" class=\"dataframe\">\n",
       "  <thead>\n",
       "    <tr style=\"text-align: right;\">\n",
       "      <th></th>\n",
       "      <th>Participant  code</th>\n",
       "      <th>Age  (years)</th>\n",
       "      <th>Gender</th>\n",
       "      <th>Positive  history  of  Parkinson  disease  in  family</th>\n",
       "      <th>Age  of  disease  onset  (years)</th>\n",
       "      <th>Duration  of  disease  from  first  symptoms  (years)</th>\n",
       "      <th>Antidepressant  therapy</th>\n",
       "      <th>Antiparkinsonian  medication</th>\n",
       "      <th>Antipsychotic  medication</th>\n",
       "      <th>Benzodiazepine  medication</th>\n",
       "      <th>...</th>\n",
       "      <th>Acceleration  of  speech  timing  (-/min2) 55</th>\n",
       "      <th>Duration  of  pause  intervals  (ms) 56</th>\n",
       "      <th>Duration  of  voiced  intervals  (ms) 57</th>\n",
       "      <th>Gaping  in-between  voiced  Intervals  (-/min) 58</th>\n",
       "      <th>Duration  of  unvoiced  stops  (ms) 59</th>\n",
       "      <th>Decay  of  unvoiced  fricatives  (‰/min) 60</th>\n",
       "      <th>Relative  loudness  of  respiration  (dB) 61</th>\n",
       "      <th>Pause  intervals  per  respiration  (-) 62</th>\n",
       "      <th>Rate  of  speech  respiration  (-/min) 63</th>\n",
       "      <th>Latency  of  respiratory  exchange  (ms) 64</th>\n",
       "    </tr>\n",
       "  </thead>\n",
       "  <tbody>\n",
       "    <tr>\n",
       "      <th>0</th>\n",
       "      <td>PD01</td>\n",
       "      <td>58</td>\n",
       "      <td>F</td>\n",
       "      <td>No</td>\n",
       "      <td>56</td>\n",
       "      <td>2</td>\n",
       "      <td>No</td>\n",
       "      <td>No</td>\n",
       "      <td>No</td>\n",
       "      <td>No</td>\n",
       "      <td>...</td>\n",
       "      <td>-2.82</td>\n",
       "      <td>158</td>\n",
       "      <td>318</td>\n",
       "      <td>49.01</td>\n",
       "      <td>22.37</td>\n",
       "      <td>0.588</td>\n",
       "      <td>-19.77</td>\n",
       "      <td>6</td>\n",
       "      <td>13.81</td>\n",
       "      <td>127</td>\n",
       "    </tr>\n",
       "    <tr>\n",
       "      <th>1</th>\n",
       "      <td>PD02</td>\n",
       "      <td>68</td>\n",
       "      <td>F</td>\n",
       "      <td>No</td>\n",
       "      <td>67</td>\n",
       "      <td>1</td>\n",
       "      <td>No</td>\n",
       "      <td>No</td>\n",
       "      <td>No</td>\n",
       "      <td>No</td>\n",
       "      <td>...</td>\n",
       "      <td>8.2</td>\n",
       "      <td>295</td>\n",
       "      <td>264</td>\n",
       "      <td>40.56</td>\n",
       "      <td>26.88</td>\n",
       "      <td>-0.825</td>\n",
       "      <td>-23.26</td>\n",
       "      <td>4</td>\n",
       "      <td>21.77</td>\n",
       "      <td>313</td>\n",
       "    </tr>\n",
       "    <tr>\n",
       "      <th>2</th>\n",
       "      <td>PD03</td>\n",
       "      <td>68</td>\n",
       "      <td>M</td>\n",
       "      <td>No</td>\n",
       "      <td>67</td>\n",
       "      <td>1</td>\n",
       "      <td>No</td>\n",
       "      <td>No</td>\n",
       "      <td>No</td>\n",
       "      <td>No</td>\n",
       "      <td>...</td>\n",
       "      <td>4.71</td>\n",
       "      <td>280</td>\n",
       "      <td>317</td>\n",
       "      <td>48.97</td>\n",
       "      <td>22.37</td>\n",
       "      <td>-0.955</td>\n",
       "      <td>-13.29</td>\n",
       "      <td>4</td>\n",
       "      <td>22.52</td>\n",
       "      <td>201</td>\n",
       "    </tr>\n",
       "    <tr>\n",
       "      <th>3</th>\n",
       "      <td>PD04</td>\n",
       "      <td>75</td>\n",
       "      <td>M</td>\n",
       "      <td>No</td>\n",
       "      <td>73</td>\n",
       "      <td>2</td>\n",
       "      <td>No</td>\n",
       "      <td>No</td>\n",
       "      <td>No</td>\n",
       "      <td>No</td>\n",
       "      <td>...</td>\n",
       "      <td>-9.09</td>\n",
       "      <td>397</td>\n",
       "      <td>800</td>\n",
       "      <td>18.69</td>\n",
       "      <td>49.37</td>\n",
       "      <td>0.791</td>\n",
       "      <td>-25.08</td>\n",
       "      <td>2</td>\n",
       "      <td>14.37</td>\n",
       "      <td>151</td>\n",
       "    </tr>\n",
       "    <tr>\n",
       "      <th>4</th>\n",
       "      <td>PD05</td>\n",
       "      <td>61</td>\n",
       "      <td>M</td>\n",
       "      <td>Yes</td>\n",
       "      <td>60</td>\n",
       "      <td>0.7</td>\n",
       "      <td>No</td>\n",
       "      <td>No</td>\n",
       "      <td>No</td>\n",
       "      <td>No</td>\n",
       "      <td>...</td>\n",
       "      <td>11.77</td>\n",
       "      <td>206</td>\n",
       "      <td>480</td>\n",
       "      <td>33.54</td>\n",
       "      <td>26.87</td>\n",
       "      <td>0.075</td>\n",
       "      <td>-22.32</td>\n",
       "      <td>5</td>\n",
       "      <td>14.61</td>\n",
       "      <td>151</td>\n",
       "    </tr>\n",
       "    <tr>\n",
       "      <th>...</th>\n",
       "      <td>...</td>\n",
       "      <td>...</td>\n",
       "      <td>...</td>\n",
       "      <td>...</td>\n",
       "      <td>...</td>\n",
       "      <td>...</td>\n",
       "      <td>...</td>\n",
       "      <td>...</td>\n",
       "      <td>...</td>\n",
       "      <td>...</td>\n",
       "      <td>...</td>\n",
       "      <td>...</td>\n",
       "      <td>...</td>\n",
       "      <td>...</td>\n",
       "      <td>...</td>\n",
       "      <td>...</td>\n",
       "      <td>...</td>\n",
       "      <td>...</td>\n",
       "      <td>...</td>\n",
       "      <td>...</td>\n",
       "      <td>...</td>\n",
       "    </tr>\n",
       "    <tr>\n",
       "      <th>125</th>\n",
       "      <td>HC46</td>\n",
       "      <td>69</td>\n",
       "      <td>M</td>\n",
       "      <td>-</td>\n",
       "      <td>-</td>\n",
       "      <td>-</td>\n",
       "      <td>No</td>\n",
       "      <td>No</td>\n",
       "      <td>No</td>\n",
       "      <td>No</td>\n",
       "      <td>...</td>\n",
       "      <td>8.43</td>\n",
       "      <td>264</td>\n",
       "      <td>380</td>\n",
       "      <td>36.36</td>\n",
       "      <td>26.88</td>\n",
       "      <td>0.023</td>\n",
       "      <td>-23.12</td>\n",
       "      <td>3</td>\n",
       "      <td>15.41</td>\n",
       "      <td>177</td>\n",
       "    </tr>\n",
       "    <tr>\n",
       "      <th>126</th>\n",
       "      <td>HC47</td>\n",
       "      <td>68</td>\n",
       "      <td>M</td>\n",
       "      <td>-</td>\n",
       "      <td>-</td>\n",
       "      <td>-</td>\n",
       "      <td>No</td>\n",
       "      <td>No</td>\n",
       "      <td>No</td>\n",
       "      <td>No</td>\n",
       "      <td>...</td>\n",
       "      <td>4.09</td>\n",
       "      <td>177</td>\n",
       "      <td>359</td>\n",
       "      <td>47.06</td>\n",
       "      <td>22.37</td>\n",
       "      <td>-0.117</td>\n",
       "      <td>-18.67</td>\n",
       "      <td>5</td>\n",
       "      <td>16.94</td>\n",
       "      <td>138</td>\n",
       "    </tr>\n",
       "    <tr>\n",
       "      <th>127</th>\n",
       "      <td>HC48</td>\n",
       "      <td>53</td>\n",
       "      <td>M</td>\n",
       "      <td>-</td>\n",
       "      <td>-</td>\n",
       "      <td>-</td>\n",
       "      <td>No</td>\n",
       "      <td>No</td>\n",
       "      <td>No</td>\n",
       "      <td>No</td>\n",
       "      <td>...</td>\n",
       "      <td>5.09</td>\n",
       "      <td>223</td>\n",
       "      <td>391</td>\n",
       "      <td>37.74</td>\n",
       "      <td>40.37</td>\n",
       "      <td>0.411</td>\n",
       "      <td>-15.56</td>\n",
       "      <td>3</td>\n",
       "      <td>19.51</td>\n",
       "      <td>156</td>\n",
       "    </tr>\n",
       "    <tr>\n",
       "      <th>128</th>\n",
       "      <td>HC49</td>\n",
       "      <td>44</td>\n",
       "      <td>M</td>\n",
       "      <td>-</td>\n",
       "      <td>-</td>\n",
       "      <td>-</td>\n",
       "      <td>No</td>\n",
       "      <td>No</td>\n",
       "      <td>No</td>\n",
       "      <td>No</td>\n",
       "      <td>...</td>\n",
       "      <td>2.8</td>\n",
       "      <td>252</td>\n",
       "      <td>361</td>\n",
       "      <td>38.92</td>\n",
       "      <td>26.88</td>\n",
       "      <td>0.389</td>\n",
       "      <td>-17.53</td>\n",
       "      <td>4</td>\n",
       "      <td>17.51</td>\n",
       "      <td>154</td>\n",
       "    </tr>\n",
       "    <tr>\n",
       "      <th>129</th>\n",
       "      <td>HC50</td>\n",
       "      <td>54</td>\n",
       "      <td>M</td>\n",
       "      <td>-</td>\n",
       "      <td>-</td>\n",
       "      <td>-</td>\n",
       "      <td>No</td>\n",
       "      <td>No</td>\n",
       "      <td>No</td>\n",
       "      <td>No</td>\n",
       "      <td>...</td>\n",
       "      <td>0.24</td>\n",
       "      <td>235</td>\n",
       "      <td>319</td>\n",
       "      <td>44.56</td>\n",
       "      <td>26.88</td>\n",
       "      <td>1.137</td>\n",
       "      <td>-27.31</td>\n",
       "      <td>4</td>\n",
       "      <td>14.04</td>\n",
       "      <td>130</td>\n",
       "    </tr>\n",
       "  </tbody>\n",
       "</table>\n",
       "<p>130 rows × 65 columns</p>\n",
       "</div>"
      ],
      "text/plain": [
       "     Participant  code   Age  (years)  Gender  \\\n",
       "0                  PD01             58      F   \n",
       "1                  PD02             68      F   \n",
       "2                  PD03             68      M   \n",
       "3                  PD04             75      M   \n",
       "4                  PD05             61      M   \n",
       "..                  ...            ...    ...   \n",
       "125                HC46             69      M   \n",
       "126                HC47             68      M   \n",
       "127                HC48             53      M   \n",
       "128                HC49             44      M   \n",
       "129                HC50             54      M   \n",
       "\n",
       "     Positive  history  of  Parkinson  disease  in  family   \\\n",
       "0                                                   No        \n",
       "1                                                   No        \n",
       "2                                                   No        \n",
       "3                                                   No        \n",
       "4                                                  Yes        \n",
       "..                                                 ...        \n",
       "125                                                  -        \n",
       "126                                                  -        \n",
       "127                                                  -        \n",
       "128                                                  -        \n",
       "129                                                  -        \n",
       "\n",
       "     Age  of  disease  onset  (years)   \\\n",
       "0                                   56   \n",
       "1                                   67   \n",
       "2                                   67   \n",
       "3                                   73   \n",
       "4                                   60   \n",
       "..                                 ...   \n",
       "125                                  -   \n",
       "126                                  -   \n",
       "127                                  -   \n",
       "128                                  -   \n",
       "129                                  -   \n",
       "\n",
       "     Duration  of  disease  from  first  symptoms  (years)   \\\n",
       "0                                                    2        \n",
       "1                                                    1        \n",
       "2                                                    1        \n",
       "3                                                    2        \n",
       "4                                                  0.7        \n",
       "..                                                 ...        \n",
       "125                                                  -        \n",
       "126                                                  -        \n",
       "127                                                  -        \n",
       "128                                                  -        \n",
       "129                                                  -        \n",
       "\n",
       "     Antidepressant  therapy   Antiparkinsonian  medication   \\\n",
       "0                          No                             No   \n",
       "1                          No                             No   \n",
       "2                          No                             No   \n",
       "3                          No                             No   \n",
       "4                          No                             No   \n",
       "..                        ...                            ...   \n",
       "125                        No                             No   \n",
       "126                        No                             No   \n",
       "127                        No                             No   \n",
       "128                        No                             No   \n",
       "129                        No                             No   \n",
       "\n",
       "     Antipsychotic  medication   Benzodiazepine  medication   ...  \\\n",
       "0                            No                           No  ...   \n",
       "1                            No                           No  ...   \n",
       "2                            No                           No  ...   \n",
       "3                            No                           No  ...   \n",
       "4                            No                           No  ...   \n",
       "..                          ...                          ...  ...   \n",
       "125                          No                           No  ...   \n",
       "126                          No                           No  ...   \n",
       "127                          No                           No  ...   \n",
       "128                          No                           No  ...   \n",
       "129                          No                           No  ...   \n",
       "\n",
       "     Acceleration  of  speech  timing  (-/min2) 55  \\\n",
       "0                                            -2.82   \n",
       "1                                              8.2   \n",
       "2                                             4.71   \n",
       "3                                            -9.09   \n",
       "4                                            11.77   \n",
       "..                                             ...   \n",
       "125                                           8.43   \n",
       "126                                           4.09   \n",
       "127                                           5.09   \n",
       "128                                            2.8   \n",
       "129                                           0.24   \n",
       "\n",
       "     Duration  of  pause  intervals  (ms) 56  \\\n",
       "0                                        158   \n",
       "1                                        295   \n",
       "2                                        280   \n",
       "3                                        397   \n",
       "4                                        206   \n",
       "..                                       ...   \n",
       "125                                      264   \n",
       "126                                      177   \n",
       "127                                      223   \n",
       "128                                      252   \n",
       "129                                      235   \n",
       "\n",
       "     Duration  of  voiced  intervals  (ms) 57  \\\n",
       "0                                         318   \n",
       "1                                         264   \n",
       "2                                         317   \n",
       "3                                         800   \n",
       "4                                         480   \n",
       "..                                        ...   \n",
       "125                                       380   \n",
       "126                                       359   \n",
       "127                                       391   \n",
       "128                                       361   \n",
       "129                                       319   \n",
       "\n",
       "     Gaping  in-between  voiced  Intervals  (-/min) 58  \\\n",
       "0                                                49.01   \n",
       "1                                                40.56   \n",
       "2                                                48.97   \n",
       "3                                                18.69   \n",
       "4                                                33.54   \n",
       "..                                                 ...   \n",
       "125                                              36.36   \n",
       "126                                              47.06   \n",
       "127                                              37.74   \n",
       "128                                              38.92   \n",
       "129                                              44.56   \n",
       "\n",
       "     Duration  of  unvoiced  stops  (ms) 59  \\\n",
       "0                                     22.37   \n",
       "1                                     26.88   \n",
       "2                                     22.37   \n",
       "3                                     49.37   \n",
       "4                                     26.87   \n",
       "..                                      ...   \n",
       "125                                   26.88   \n",
       "126                                   22.37   \n",
       "127                                   40.37   \n",
       "128                                   26.88   \n",
       "129                                   26.88   \n",
       "\n",
       "     Decay  of  unvoiced  fricatives  (‰/min) 60  \\\n",
       "0                                          0.588   \n",
       "1                                         -0.825   \n",
       "2                                         -0.955   \n",
       "3                                          0.791   \n",
       "4                                          0.075   \n",
       "..                                           ...   \n",
       "125                                        0.023   \n",
       "126                                       -0.117   \n",
       "127                                        0.411   \n",
       "128                                        0.389   \n",
       "129                                        1.137   \n",
       "\n",
       "     Relative  loudness  of  respiration  (dB) 61  \\\n",
       "0                                          -19.77   \n",
       "1                                          -23.26   \n",
       "2                                          -13.29   \n",
       "3                                          -25.08   \n",
       "4                                          -22.32   \n",
       "..                                            ...   \n",
       "125                                        -23.12   \n",
       "126                                        -18.67   \n",
       "127                                        -15.56   \n",
       "128                                        -17.53   \n",
       "129                                        -27.31   \n",
       "\n",
       "     Pause  intervals  per  respiration  (-) 62  \\\n",
       "0                                             6   \n",
       "1                                             4   \n",
       "2                                             4   \n",
       "3                                             2   \n",
       "4                                             5   \n",
       "..                                          ...   \n",
       "125                                           3   \n",
       "126                                           5   \n",
       "127                                           3   \n",
       "128                                           4   \n",
       "129                                           4   \n",
       "\n",
       "     Rate  of  speech  respiration  (-/min) 63  \\\n",
       "0                                        13.81   \n",
       "1                                        21.77   \n",
       "2                                        22.52   \n",
       "3                                        14.37   \n",
       "4                                        14.61   \n",
       "..                                         ...   \n",
       "125                                      15.41   \n",
       "126                                      16.94   \n",
       "127                                      19.51   \n",
       "128                                      17.51   \n",
       "129                                      14.04   \n",
       "\n",
       "     Latency  of  respiratory  exchange  (ms) 64  \n",
       "0                                            127  \n",
       "1                                            313  \n",
       "2                                            201  \n",
       "3                                            151  \n",
       "4                                            151  \n",
       "..                                           ...  \n",
       "125                                          177  \n",
       "126                                          138  \n",
       "127                                          156  \n",
       "128                                          154  \n",
       "129                                          130  \n",
       "\n",
       "[130 rows x 65 columns]"
      ]
     },
     "execution_count": 412,
     "metadata": {},
     "output_type": "execute_result"
    }
   ],
   "source": [
    "df.toPandas()"
   ]
  },
  {
   "cell_type": "markdown",
   "id": "342451d9",
   "metadata": {},
   "source": [
    "## Transformation of dataframe \n"
   ]
  },
  {
   "cell_type": "code",
   "execution_count": 413,
   "id": "2d286611",
   "metadata": {},
   "outputs": [
    {
     "data": {
      "text/plain": [
       "['Participant  code',\n",
       " 'Age  (years)',\n",
       " 'Gender',\n",
       " 'Positive  history  of  Parkinson  disease  in  family',\n",
       " 'Age  of  disease  onset  (years)',\n",
       " 'Duration  of  disease  from  first  symptoms  (years)',\n",
       " 'Antidepressant  therapy',\n",
       " 'Antiparkinsonian  medication',\n",
       " 'Antipsychotic  medication',\n",
       " 'Benzodiazepine  medication',\n",
       " 'Levodopa  equivalent  (mg/day)',\n",
       " 'Clonazepam  (mg/day)',\n",
       " 'Overview  of  motor  examination:  Hoehn  &  Yahr  scale  (-)',\n",
       " 'Overview  of  motor  examination:  UPDRS  III  total  (-)',\n",
       " '18.  Speech',\n",
       " '19.  Facial  Expression',\n",
       " '20.  Tremor  at  Rest  -  head',\n",
       " '20.  Tremor  at  Rest  -  RUE',\n",
       " '20.  Tremor  at  Rest  -  LUE',\n",
       " '20.  Tremor  at  Rest  -  RLE',\n",
       " '20.  Tremor  at  Rest  -  LLE',\n",
       " '21.  Action  or  Postural  Tremor  -  RUE',\n",
       " '21.  Action  or  Postural  Tremor  -  LUE',\n",
       " '22.  Rigidity  -  neck',\n",
       " '22.  Rigidity  -  RUE',\n",
       " '22.  Rigidity  -  LUE',\n",
       " '22.  Rigidity  -  RLE',\n",
       " '22.  Rigidity  -  LLE',\n",
       " '23.Finger  Taps  -  RUE',\n",
       " '23.Finger  Taps  -  LUE',\n",
       " '24.  Hand  Movements  -  RUE',\n",
       " '24.  Hand  Movements  -  LUE',\n",
       " '25.  Rapid  Alternating  Movements  -  RUE',\n",
       " '25.  Rapid  Alternating  Movements  -  LUE',\n",
       " '26.  Leg  Agility  -  RLE',\n",
       " '26.  Leg  Agility  -  LLE',\n",
       " '27.  Arising  from  Chair',\n",
       " '28.  Posture',\n",
       " '29.  Gait',\n",
       " '30.  Postural  Stability',\n",
       " '31.  Body  Bradykinesia  and  Hypokinesia',\n",
       " 'Entropy  of  speech  timing  (-) 41',\n",
       " 'Rate  of  speech  timing  (-/min) 42',\n",
       " 'Acceleration  of  speech  timing  (-/min2) 43',\n",
       " 'Duration  of  pause  intervals  (ms) 44',\n",
       " 'Duration  of  voiced  intervals  (ms) 45',\n",
       " 'Gaping  in-between  voiced  intervals  (-/min) 46',\n",
       " 'Duration  of  unvoiced  stops  (ms) 47',\n",
       " 'Decay  of  unvoiced  fricatives  (‰/min) 48',\n",
       " 'Relative  loudness  of  respiration  (dB) 49',\n",
       " 'Pause  intervals  per  respiration  (-) 50',\n",
       " 'Rate  of  speech  respiration  (-/min) 51',\n",
       " 'Latency  of  respiratory  exchange  (ms) 52',\n",
       " 'Entropy  of  speech  timing  (-) 53',\n",
       " 'Rate  of  speech  timing  (-/min) 54',\n",
       " 'Acceleration  of  speech  timing  (-/min2) 55',\n",
       " 'Duration  of  pause  intervals  (ms) 56',\n",
       " 'Duration  of  voiced  intervals  (ms) 57',\n",
       " 'Gaping  in-between  voiced  Intervals  (-/min) 58',\n",
       " 'Duration  of  unvoiced  stops  (ms) 59',\n",
       " 'Decay  of  unvoiced  fricatives  (‰/min) 60',\n",
       " 'Relative  loudness  of  respiration  (dB) 61',\n",
       " 'Pause  intervals  per  respiration  (-) 62',\n",
       " 'Rate  of  speech  respiration  (-/min) 63',\n",
       " 'Latency  of  respiratory  exchange  (ms) 64']"
      ]
     },
     "execution_count": 413,
     "metadata": {},
     "output_type": "execute_result"
    }
   ],
   "source": [
    "#creation of new list without left and right spaces\n",
    "current_columns = df.columns\n",
    "modified_columns = [col.strip() for col in current_columns]\n",
    "modified_columns"
   ]
  },
  {
   "cell_type": "code",
   "execution_count": 414,
   "id": "83d16db2",
   "metadata": {},
   "outputs": [
    {
     "data": {
      "text/plain": [
       "['Participant  code',\n",
       " 'Age  (years)',\n",
       " 'Gender',\n",
       " 'Positive  history  of  Parkinson  disease  in  family',\n",
       " 'Age  of  disease  onset  (years)',\n",
       " 'Duration  of  disease  from  first  symptoms  (years)',\n",
       " 'Antidepressant  therapy',\n",
       " 'Antiparkinsonian  medication',\n",
       " 'Antipsychotic  medication',\n",
       " 'Benzodiazepine  medication',\n",
       " 'Levodopa  equivalent  (mg/day)',\n",
       " 'Clonazepam  (mg/day)',\n",
       " 'Overview  of  motor  examination:  Hoehn  &  Yahr  scale  (-)',\n",
       " 'Overview  of  motor  examination:  UPDRS  III  total  (-)',\n",
       " '  Speech',\n",
       " '  Facial  Expression',\n",
       " '  Tremor  at  Rest  -  head',\n",
       " '  Tremor  at  Rest  -  RUE',\n",
       " '  Tremor  at  Rest  -  LUE',\n",
       " '  Tremor  at  Rest  -  RLE',\n",
       " '  Tremor  at  Rest  -  LLE',\n",
       " '  Action  or  Postural  Tremor  -  RUE',\n",
       " '  Action  or  Postural  Tremor  -  LUE',\n",
       " '  Rigidity  -  neck',\n",
       " '  Rigidity  -  RUE',\n",
       " '  Rigidity  -  LUE',\n",
       " '  Rigidity  -  RLE',\n",
       " '  Rigidity  -  LLE',\n",
       " 'Finger  Taps  -  RUE',\n",
       " 'Finger  Taps  -  LUE',\n",
       " '  Hand  Movements  -  RUE',\n",
       " '  Hand  Movements  -  LUE',\n",
       " '  Rapid  Alternating  Movements  -  RUE',\n",
       " '  Rapid  Alternating  Movements  -  LUE',\n",
       " '  Leg  Agility  -  RLE',\n",
       " '  Leg  Agility  -  LLE',\n",
       " '  Arising  from  Chair',\n",
       " '  Posture',\n",
       " '  Gait',\n",
       " '  Postural  Stability',\n",
       " '  Body  Bradykinesia  and  Hypokinesia',\n",
       " 'Entropy  of  speech  timing  (-) ',\n",
       " 'Rate  of  speech  timing  (-/min) ',\n",
       " 'Acceleration  of  speech  timing  (-/min2) ',\n",
       " 'Duration  of  pause  intervals  (ms) ',\n",
       " 'Duration  of  voiced  intervals  (ms) ',\n",
       " 'Gaping  in-between  voiced  intervals  (-/min) ',\n",
       " 'Duration  of  unvoiced  stops  (ms) ',\n",
       " 'Decay  of  unvoiced  fricatives  (‰/min) ',\n",
       " 'Relative  loudness  of  respiration  (dB) ',\n",
       " 'Pause  intervals  per  respiration  (-) ',\n",
       " 'Rate  of  speech  respiration  (-/min) ',\n",
       " 'Latency  of  respiratory  exchange  (ms) ',\n",
       " 'Entropy  of  speech  timing  (-) ',\n",
       " 'Rate  of  speech  timing  (-/min) ',\n",
       " 'Acceleration  of  speech  timing  (-/min2) ',\n",
       " 'Duration  of  pause  intervals  (ms) ',\n",
       " 'Duration  of  voiced  intervals  (ms) ',\n",
       " 'Gaping  in-between  voiced  Intervals  (-/min) ',\n",
       " 'Duration  of  unvoiced  stops  (ms) ',\n",
       " 'Decay  of  unvoiced  fricatives  (‰/min) ',\n",
       " 'Relative  loudness  of  respiration  (dB) ',\n",
       " 'Pause  intervals  per  respiration  (-) ',\n",
       " 'Rate  of  speech  respiration  (-/min) ',\n",
       " 'Latency  of  respiratory  exchange  (ms) ']"
      ]
     },
     "execution_count": 414,
     "metadata": {},
     "output_type": "execute_result"
    }
   ],
   "source": [
    "#removing unnecessary numbers and signs\n",
    "for col in modified_columns:\n",
    "    char_first = col[:2]\n",
    "    char_last = col[-2:]\n",
    "    if char_first.isdigit():\n",
    "        col_index = modified_columns.index(col)\n",
    "        modified_columns[col_index] = col.replace(char_first + '.', \"\")\n",
    "    elif char_last.isdigit():\n",
    "        col_index = modified_columns.index(col)\n",
    "        modified_columns[col_index] = col.replace(char_last,\"\")\n",
    "    else:\n",
    "        continue\n",
    "modified_columns"
   ]
  },
  {
   "cell_type": "code",
   "execution_count": 415,
   "id": "25a62730",
   "metadata": {},
   "outputs": [
    {
     "data": {
      "text/plain": [
       "['Participant  code',\n",
       " 'Age  (years)',\n",
       " 'Gender',\n",
       " 'Positive  history  of  Parkinson  disease  in  family',\n",
       " 'Age  of  disease  onset  (years)',\n",
       " 'Duration  of  disease  from  first  symptoms  (years)',\n",
       " 'Antidepressant  therapy',\n",
       " 'Antiparkinsonian  medication',\n",
       " 'Antipsychotic  medication',\n",
       " 'Benzodiazepine  medication',\n",
       " 'Levodopa  equivalent  (mg/day)',\n",
       " 'Clonazepam  (mg/day)',\n",
       " 'Overview  of  motor  examination:  Hoehn  &  Yahr  scale  (-)',\n",
       " 'Overview  of  motor  examination:  UPDRS  III  total  (-)',\n",
       " 'Speech',\n",
       " 'Facial  Expression',\n",
       " 'Tremor  at  Rest  -  head',\n",
       " 'Tremor  at  Rest  -  RUE',\n",
       " 'Tremor  at  Rest  -  LUE',\n",
       " 'Tremor  at  Rest  -  RLE',\n",
       " 'Tremor  at  Rest  -  LLE',\n",
       " 'Action  or  Postural  Tremor  -  RUE',\n",
       " 'Action  or  Postural  Tremor  -  LUE',\n",
       " 'Rigidity  -  neck',\n",
       " 'Rigidity  -  RUE',\n",
       " 'Rigidity  -  LUE',\n",
       " 'Rigidity  -  RLE',\n",
       " 'Rigidity  -  LLE',\n",
       " 'Finger  Taps  -  RUE',\n",
       " 'Finger  Taps  -  LUE',\n",
       " 'Hand  Movements  -  RUE',\n",
       " 'Hand  Movements  -  LUE',\n",
       " 'Rapid  Alternating  Movements  -  RUE',\n",
       " 'Rapid  Alternating  Movements  -  LUE',\n",
       " 'Leg  Agility  -  RLE',\n",
       " 'Leg  Agility  -  LLE',\n",
       " 'Arising  from  Chair',\n",
       " 'Posture',\n",
       " 'Gait',\n",
       " 'Postural  Stability',\n",
       " 'Body  Bradykinesia  and  Hypokinesia',\n",
       " 'Entropy  of  speech  timing  (-)',\n",
       " 'Rate  of  speech  timing  (-/min)',\n",
       " 'Acceleration  of  speech  timing  (-/min2)',\n",
       " 'Duration  of  pause  intervals  (ms)',\n",
       " 'Duration  of  voiced  intervals  (ms)',\n",
       " 'Gaping  in-between  voiced  intervals  (-/min)',\n",
       " 'Duration  of  unvoiced  stops  (ms)',\n",
       " 'Decay  of  unvoiced  fricatives  (‰/min)',\n",
       " 'Relative  loudness  of  respiration  (dB)',\n",
       " 'Pause  intervals  per  respiration  (-)',\n",
       " 'Rate  of  speech  respiration  (-/min)',\n",
       " 'Latency  of  respiratory  exchange  (ms)',\n",
       " 'Entropy  of  speech  timing  (-)',\n",
       " 'Rate  of  speech  timing  (-/min)',\n",
       " 'Acceleration  of  speech  timing  (-/min2)',\n",
       " 'Duration  of  pause  intervals  (ms)',\n",
       " 'Duration  of  voiced  intervals  (ms)',\n",
       " 'Gaping  in-between  voiced  Intervals  (-/min)',\n",
       " 'Duration  of  unvoiced  stops  (ms)',\n",
       " 'Decay  of  unvoiced  fricatives  (‰/min)',\n",
       " 'Relative  loudness  of  respiration  (dB)',\n",
       " 'Pause  intervals  per  respiration  (-)',\n",
       " 'Rate  of  speech  respiration  (-/min)',\n",
       " 'Latency  of  respiratory  exchange  (ms)']"
      ]
     },
     "execution_count": 415,
     "metadata": {},
     "output_type": "execute_result"
    }
   ],
   "source": [
    "#creation of new list withouе left and right spaces\n",
    "modified_columns_2 = [col.strip() for col in modified_columns]\n",
    "modified_columns_2"
   ]
  },
  {
   "cell_type": "code",
   "execution_count": 416,
   "id": "a05db714",
   "metadata": {},
   "outputs": [
    {
     "data": {
      "text/plain": [
       "['Participant_code',\n",
       " 'Age_(years)',\n",
       " 'Gender',\n",
       " 'Positive_history_of_Parkinson_disease_in_family',\n",
       " 'Age_of_disease_onset_(years)',\n",
       " 'Duration_of_disease_from_first_symptoms_(years)',\n",
       " 'Antidepressant_therapy',\n",
       " 'Antiparkinsonian_medication',\n",
       " 'Antipsychotic_medication',\n",
       " 'Benzodiazepine_medication',\n",
       " 'Levodopa_equivalent_(mg/day)',\n",
       " 'Clonazepam_(mg/day)',\n",
       " 'Overview_of_motor_examination:_Hoehn_&_Yahr_scale_(-)',\n",
       " 'Overview_of_motor_examination:_UPDRS_III_total_(-)',\n",
       " 'Speech',\n",
       " 'Facial_Expression',\n",
       " 'Tremor_at_Rest_-_head',\n",
       " 'Tremor_at_Rest_-_RUE',\n",
       " 'Tremor_at_Rest_-_LUE',\n",
       " 'Tremor_at_Rest_-_RLE',\n",
       " 'Tremor_at_Rest_-_LLE',\n",
       " 'Action_or_Postural_Tremor_-_RUE',\n",
       " 'Action_or_Postural_Tremor_-_LUE',\n",
       " 'Rigidity_-_neck',\n",
       " 'Rigidity_-_RUE',\n",
       " 'Rigidity_-_LUE',\n",
       " 'Rigidity_-_RLE',\n",
       " 'Rigidity_-_LLE',\n",
       " 'Finger_Taps_-_RUE',\n",
       " 'Finger_Taps_-_LUE',\n",
       " 'Hand_Movements_-_RUE',\n",
       " 'Hand_Movements_-_LUE',\n",
       " 'Rapid_Alternating_Movements_-_RUE',\n",
       " 'Rapid_Alternating_Movements_-_LUE',\n",
       " 'Leg_Agility_-_RLE',\n",
       " 'Leg_Agility_-_LLE',\n",
       " 'Arising_from_Chair',\n",
       " 'Posture',\n",
       " 'Gait',\n",
       " 'Postural_Stability',\n",
       " 'Body_Bradykinesia_and_Hypokinesia',\n",
       " 'Entropy_of_speech_timing_(-)',\n",
       " 'Rate_of_speech_timing_(-/min)',\n",
       " 'Acceleration_of_speech_timing_(-/min2)',\n",
       " 'Duration_of_pause_intervals_(ms)',\n",
       " 'Duration_of_voiced_intervals_(ms)',\n",
       " 'Gaping_in-between_voiced_intervals_(-/min)',\n",
       " 'Duration_of_unvoiced_stops_(ms)',\n",
       " 'Decay_of_unvoiced_fricatives_(‰/min)',\n",
       " 'Relative_loudness_of_respiration_(dB)',\n",
       " 'Pause_intervals_per_respiration_(-)',\n",
       " 'Rate_of_speech_respiration_(-/min)',\n",
       " 'Latency_of_respiratory_exchange_(ms)',\n",
       " 'Entropy_of_speech_timing_(-)',\n",
       " 'Rate_of_speech_timing_(-/min)',\n",
       " 'Acceleration_of_speech_timing_(-/min2)',\n",
       " 'Duration_of_pause_intervals_(ms)',\n",
       " 'Duration_of_voiced_intervals_(ms)',\n",
       " 'Gaping_in-between_voiced_Intervals_(-/min)',\n",
       " 'Duration_of_unvoiced_stops_(ms)',\n",
       " 'Decay_of_unvoiced_fricatives_(‰/min)',\n",
       " 'Relative_loudness_of_respiration_(dB)',\n",
       " 'Pause_intervals_per_respiration_(-)',\n",
       " 'Rate_of_speech_respiration_(-/min)',\n",
       " 'Latency_of_respiratory_exchange_(ms)']"
      ]
     },
     "execution_count": 416,
     "metadata": {},
     "output_type": "execute_result"
    }
   ],
   "source": [
    "#creation of new list replacing spaces to '_'\n",
    "final_columns = list(map(lambda item : item.replace(\"  \",\"_\"),modified_columns_2)) \n",
    "final_columns"
   ]
  },
  {
   "cell_type": "code",
   "execution_count": 417,
   "id": "8471c3d5",
   "metadata": {},
   "outputs": [
    {
     "name": "stdout",
     "output_type": "stream",
     "text": [
      "root\n",
      " |-- Participant_code: string (nullable = true)\n",
      " |-- Age_(years): string (nullable = true)\n",
      " |-- Gender: string (nullable = true)\n",
      " |-- Positive_history_of_Parkinson_disease_in_family: string (nullable = true)\n",
      " |-- Age_of_disease_onset_(years): string (nullable = true)\n",
      " |-- Duration_of_disease_from_first_symptoms_(years): string (nullable = true)\n",
      " |-- Antidepressant_therapy: string (nullable = true)\n",
      " |-- Antiparkinsonian_medication: string (nullable = true)\n",
      " |-- Antipsychotic_medication: string (nullable = true)\n",
      " |-- Benzodiazepine_medication: string (nullable = true)\n",
      " |-- Levodopa_equivalent_(mg/day): string (nullable = true)\n",
      " |-- Clonazepam_(mg/day): string (nullable = true)\n",
      " |-- Overview_of_motor_examination:_Hoehn_&_Yahr_scale_(-): string (nullable = true)\n",
      " |-- Overview_of_motor_examination:_UPDRS_III_total_(-): string (nullable = true)\n",
      " |-- Speech: string (nullable = true)\n",
      " |-- Facial_Expression: string (nullable = true)\n",
      " |-- Tremor_at_Rest_-_head: string (nullable = true)\n",
      " |-- Tremor_at_Rest_-_RUE: string (nullable = true)\n",
      " |-- Tremor_at_Rest_-_LUE: string (nullable = true)\n",
      " |-- Tremor_at_Rest_-_RLE: string (nullable = true)\n",
      " |-- Tremor_at_Rest_-_LLE: string (nullable = true)\n",
      " |-- Action_or_Postural_Tremor_-_RUE: string (nullable = true)\n",
      " |-- Action_or_Postural_Tremor_-_LUE: string (nullable = true)\n",
      " |-- Rigidity_-_neck: string (nullable = true)\n",
      " |-- Rigidity_-_RUE: string (nullable = true)\n",
      " |-- Rigidity_-_LUE: string (nullable = true)\n",
      " |-- Rigidity_-_RLE: string (nullable = true)\n",
      " |-- Rigidity_-_LLE: string (nullable = true)\n",
      " |-- Finger_Taps_-_RUE: string (nullable = true)\n",
      " |-- Finger_Taps_-_LUE: string (nullable = true)\n",
      " |-- Hand_Movements_-_RUE: string (nullable = true)\n",
      " |-- Hand_Movements_-_LUE: string (nullable = true)\n",
      " |-- Rapid_Alternating_Movements_-_RUE: string (nullable = true)\n",
      " |-- Rapid_Alternating_Movements_-_LUE: string (nullable = true)\n",
      " |-- Leg_Agility_-_RLE: string (nullable = true)\n",
      " |-- Leg_Agility_-_LLE: string (nullable = true)\n",
      " |-- Arising_from_Chair: string (nullable = true)\n",
      " |-- Posture: string (nullable = true)\n",
      " |-- Gait: string (nullable = true)\n",
      " |-- Postural_Stability: string (nullable = true)\n",
      " |-- Body_Bradykinesia_and_Hypokinesia: string (nullable = true)\n",
      " |-- Entropy_of_speech_timing_(-): string (nullable = true)\n",
      " |-- Rate_of_speech_timing_(-/min): string (nullable = true)\n",
      " |-- Acceleration_of_speech_timing_(-/min2): string (nullable = true)\n",
      " |-- Duration_of_pause_intervals_(ms): string (nullable = true)\n",
      " |-- Duration_of_voiced_intervals_(ms): string (nullable = true)\n",
      " |-- Gaping_in-between_voiced_intervals_(-/min): string (nullable = true)\n",
      " |-- Duration_of_unvoiced_stops_(ms): string (nullable = true)\n",
      " |-- Decay_of_unvoiced_fricatives_(‰/min): string (nullable = true)\n",
      " |-- Relative_loudness_of_respiration_(dB): string (nullable = true)\n",
      " |-- Pause_intervals_per_respiration_(-): string (nullable = true)\n",
      " |-- Rate_of_speech_respiration_(-/min): string (nullable = true)\n",
      " |-- Latency_of_respiratory_exchange_(ms): string (nullable = true)\n",
      " |-- Entropy_of_speech_timing_(-): string (nullable = true)\n",
      " |-- Rate_of_speech_timing_(-/min): string (nullable = true)\n",
      " |-- Acceleration_of_speech_timing_(-/min2): string (nullable = true)\n",
      " |-- Duration_of_pause_intervals_(ms): string (nullable = true)\n",
      " |-- Duration_of_voiced_intervals_(ms): string (nullable = true)\n",
      " |-- Gaping_in-between_voiced_Intervals_(-/min): string (nullable = true)\n",
      " |-- Duration_of_unvoiced_stops_(ms): string (nullable = true)\n",
      " |-- Decay_of_unvoiced_fricatives_(‰/min): string (nullable = true)\n",
      " |-- Relative_loudness_of_respiration_(dB): string (nullable = true)\n",
      " |-- Pause_intervals_per_respiration_(-): string (nullable = true)\n",
      " |-- Rate_of_speech_respiration_(-/min): string (nullable = true)\n",
      " |-- Latency_of_respiratory_exchange_(ms): string (nullable = true)\n",
      "\n"
     ]
    }
   ],
   "source": [
    "final_df = reduce(lambda data, idx: data.withColumnRenamed(current_columns[idx], final_columns[idx]), range(len(current_columns)), df)\n",
    "final_df.printSchema()"
   ]
  },
  {
   "cell_type": "code",
   "execution_count": 418,
   "id": "5ff21302",
   "metadata": {},
   "outputs": [
    {
     "name": "stdout",
     "output_type": "stream",
     "text": [
      "root\n",
      " |-- Participant_code: string (nullable = true)\n",
      " |-- Age_(years): string (nullable = true)\n",
      " |-- Gender: string (nullable = true)\n",
      " |-- Positive_history_of_Parkinson_disease_in_family: string (nullable = true)\n",
      " |-- Age_of_disease_onset_(years): string (nullable = true)\n",
      "\n"
     ]
    }
   ],
   "source": [
    "park_anamnesis = final_df.select('Participant_code', \n",
    "                                'Age_(years)', \n",
    "                                'Gender', \n",
    "                                'Positive_history_of_Parkinson_disease_in_family', \n",
    "                                'Age_of_disease_onset_(years)'\n",
    "                               )\n",
    "park_anamnesis.printSchema()"
   ]
  },
  {
   "cell_type": "code",
   "execution_count": 419,
   "id": "bd585b15",
   "metadata": {},
   "outputs": [
    {
     "name": "stdout",
     "output_type": "stream",
     "text": [
      "root\n",
      " |-- Participant_code: string (nullable = true)\n",
      " |-- Speech: string (nullable = true)\n",
      " |-- Hand_Movements_-_RUE: string (nullable = true)\n",
      " |-- Tremor_at_Rest_-_head: string (nullable = true)\n",
      "\n"
     ]
    }
   ],
   "source": [
    "park_symptoms = final_df.select('Participant_code', \n",
    "                                'Speech',\n",
    "                               'Hand_Movements_-_RUE',\n",
    "                               'Tremor_at_Rest_-_head')\n",
    "park_symptoms.printSchema()"
   ]
  },
  {
   "cell_type": "markdown",
   "id": "5c68d384",
   "metadata": {},
   "source": [
    "## Data Analyzing"
   ]
  },
  {
   "cell_type": "code",
   "execution_count": 420,
   "id": "460fb0df",
   "metadata": {},
   "outputs": [
    {
     "name": "stdout",
     "output_type": "stream",
     "text": [
      "+----------------+-----------+------+-----------------------------------------------+----------------------------+\n",
      "|Participant_code|Age_(years)|Gender|Positive_history_of_Parkinson_disease_in_family|Age_of_disease_onset_(years)|\n",
      "+----------------+-----------+------+-----------------------------------------------+----------------------------+\n",
      "|            PD01|         58|     F|                                             No|                          56|\n",
      "|            PD02|         68|     F|                                             No|                          67|\n",
      "|            PD03|         68|     M|                                             No|                          67|\n",
      "|            PD04|         75|     M|                                             No|                          73|\n",
      "|            PD05|         61|     M|                                            Yes|                          60|\n",
      "|            PD06|         58|     M|                                             No|                          58|\n",
      "|            PD07|         79|     M|                                             No|                          78|\n",
      "|            PD08|         59|     F|                                             No|                          57|\n",
      "|            PD09|         73|     M|                                             No|                          72|\n",
      "|            PD10|         66|     M|                                             No|                          65|\n",
      "|            PD11|         71|     M|                                             No|                          70|\n",
      "|            PD12|         37|     F|                                             No|                          32|\n",
      "|            PD13|         43|     M|                                             No|                          37|\n",
      "|            PD14|         70|     M|                                             No|                          69|\n",
      "|            PD15|         75|     F|                                             No|                          73|\n",
      "|            PD16|         64|     F|                                             No|                          63|\n",
      "|            PD17|         73|     F|                                             No|                          71|\n",
      "|            PD18|         73|     M|                                             No|                          72|\n",
      "|            PD19|         34|     M|                                             No|                          30|\n",
      "|            PD20|         70|     M|                                             No|                          69|\n",
      "+----------------+-----------+------+-----------------------------------------------+----------------------------+\n",
      "only showing top 20 rows\n",
      "\n"
     ]
    }
   ],
   "source": [
    "park_anamnesis.show()"
   ]
  },
  {
   "cell_type": "code",
   "execution_count": 421,
   "id": "59fbfad9",
   "metadata": {},
   "outputs": [
    {
     "name": "stdout",
     "output_type": "stream",
     "text": [
      "root\n",
      " |-- Participant_code: string (nullable = true)\n",
      " |-- Age_(years): string (nullable = true)\n",
      " |-- Gender: string (nullable = true)\n",
      " |-- Positive_history_of_Parkinson_disease_in_family: string (nullable = true)\n",
      " |-- Age_of_disease_onset_(years): string (nullable = true)\n",
      " |-- Age: integer (nullable = true)\n",
      " |-- Age_of_disease_onset: integer (nullable = true)\n",
      "\n"
     ]
    }
   ],
   "source": [
    "#converting string type of colemn Age to integer\n",
    "park_anamnesis = park_anamnesis.withColumn(\"Age\",park_anamnesis[\"Age_(years)\"].cast(IntegerType()))\n",
    "park_anamnesis = park_anamnesis.withColumn(\"Age_of_disease_onset\",park_anamnesis[\"Age_of_disease_onset_(years)\"].cast(IntegerType()))\n",
    "park_anamnesis.printSchema()"
   ]
  },
  {
   "cell_type": "markdown",
   "id": "b773cc54",
   "metadata": {},
   "source": [
    "### What is the average age for Parkinson's disease?"
   ]
  },
  {
   "cell_type": "code",
   "execution_count": 422,
   "id": "faa13085",
   "metadata": {
    "scrolled": true
   },
   "outputs": [
    {
     "name": "stdout",
     "output_type": "stream",
     "text": [
      "+------+-----------------+\n",
      "|Gender|         avg(Age)|\n",
      "+------+-----------------+\n",
      "|     F|66.37037037037037|\n",
      "|     M|63.79611650485437|\n",
      "+------+-----------------+\n",
      "\n"
     ]
    }
   ],
   "source": [
    "park_anamnesis.groupBy('Gender').mean('Age').show()"
   ]
  },
  {
   "cell_type": "markdown",
   "id": "cc2f122e",
   "metadata": {},
   "source": [
    "### Who suffers from the disease more often: men or women?"
   ]
  },
  {
   "cell_type": "code",
   "execution_count": 423,
   "id": "ed57b32a",
   "metadata": {},
   "outputs": [
    {
     "name": "stdout",
     "output_type": "stream",
     "text": [
      "+------+-----+\n",
      "|Gender|count|\n",
      "+------+-----+\n",
      "|     F|   27|\n",
      "|     M|  103|\n",
      "+------+-----+\n",
      "\n"
     ]
    }
   ],
   "source": [
    "park_anamnesis.groupBy('Gender').count().show()"
   ]
  },
  {
   "cell_type": "markdown",
   "id": "f32f8468",
   "metadata": {},
   "source": [
    "### What percentage of patients had a family history of Parkinson's disease for each gender?"
   ]
  },
  {
   "cell_type": "code",
   "execution_count": 424,
   "id": "5b925e56",
   "metadata": {},
   "outputs": [
    {
     "name": "stdout",
     "output_type": "stream",
     "text": [
      "+------+-----+\n",
      "|Gender|count|\n",
      "+------+-----+\n",
      "|     F|   27|\n",
      "|     M|  103|\n",
      "+------+-----+\n",
      "\n"
     ]
    }
   ],
   "source": [
    "park_anamnesis.groupBy('Gender').count().show()"
   ]
  },
  {
   "cell_type": "code",
   "execution_count": 425,
   "id": "0a6b15a6",
   "metadata": {},
   "outputs": [
    {
     "data": {
      "text/plain": [
       "27"
      ]
     },
     "execution_count": 425,
     "metadata": {},
     "output_type": "execute_result"
    }
   ],
   "source": [
    "female_amount = park_anamnesis.filter(park_anamnesis.Gender == 'F').count()\n",
    "female_amount"
   ]
  },
  {
   "cell_type": "code",
   "execution_count": 426,
   "id": "0c54e9e2",
   "metadata": {},
   "outputs": [
    {
     "data": {
      "text/plain": [
       "103"
      ]
     },
     "execution_count": 426,
     "metadata": {},
     "output_type": "execute_result"
    }
   ],
   "source": [
    "male_amount = park_anamnesis.filter(park_anamnesis.Gender == 'M').count()\n",
    "male_amount"
   ]
  },
  {
   "cell_type": "code",
   "execution_count": 427,
   "id": "a40f501a",
   "metadata": {},
   "outputs": [
    {
     "data": {
      "text/plain": [
       "2"
      ]
     },
     "execution_count": 427,
     "metadata": {},
     "output_type": "execute_result"
    }
   ],
   "source": [
    "male_positive_history = (park_anamnesis\n",
    ".filter(park_anamnesis.Gender == 'M')\n",
    ".filter(park_anamnesis.Positive_history_of_Parkinson_disease_in_family == 'Yes')\n",
    "                 .count())\n",
    "\n",
    "\n",
    "male_positive_history"
   ]
  },
  {
   "cell_type": "code",
   "execution_count": 428,
   "id": "743aebed",
   "metadata": {},
   "outputs": [
    {
     "data": {
      "text/plain": [
       "1"
      ]
     },
     "execution_count": 428,
     "metadata": {},
     "output_type": "execute_result"
    }
   ],
   "source": [
    "female_positive_history = (park_anamnesis\n",
    ".filter(park_anamnesis.Gender == 'F')\n",
    ".filter(park_anamnesis.Positive_history_of_Parkinson_disease_in_family == 'Yes')\n",
    "                 .count())\n",
    "\n",
    "\n",
    "female_positive_history"
   ]
  },
  {
   "cell_type": "code",
   "execution_count": 429,
   "id": "5005666c",
   "metadata": {},
   "outputs": [
    {
     "data": {
      "text/plain": [
       "1.9417475728155338"
      ]
     },
     "execution_count": 429,
     "metadata": {},
     "output_type": "execute_result"
    }
   ],
   "source": [
    "male_percent = male_positive_history/male_amount*100\n",
    "female_percent = female_positive_history/female_amount*100\n",
    "male_percent\n"
   ]
  },
  {
   "cell_type": "code",
   "execution_count": 430,
   "id": "953453ae",
   "metadata": {
    "scrolled": false
   },
   "outputs": [
    {
     "data": {
      "text/plain": [
       "3.7037037037037033"
      ]
     },
     "execution_count": 430,
     "metadata": {},
     "output_type": "execute_result"
    }
   ],
   "source": [
    "female_percent"
   ]
  },
  {
   "cell_type": "markdown",
   "id": "57faeb44",
   "metadata": {},
   "source": [
    "### How many years have the disease?\n"
   ]
  },
  {
   "cell_type": "code",
   "execution_count": 431,
   "id": "21458e00",
   "metadata": {},
   "outputs": [
    {
     "name": "stdout",
     "output_type": "stream",
     "text": [
      "+------+----------------+\n",
      "|Gender|disease_duration|\n",
      "+------+----------------+\n",
      "|     F|               2|\n",
      "|     F|               1|\n",
      "|     M|               1|\n",
      "|     M|               2|\n",
      "|     M|               1|\n",
      "|     M|               0|\n",
      "|     M|               1|\n",
      "|     F|               2|\n",
      "|     M|               1|\n",
      "|     M|               1|\n",
      "|     M|               1|\n",
      "|     F|               5|\n",
      "|     M|               6|\n",
      "|     M|               1|\n",
      "|     F|               2|\n",
      "|     F|               1|\n",
      "|     F|               2|\n",
      "|     M|               1|\n",
      "|     M|               4|\n",
      "|     M|               1|\n",
      "+------+----------------+\n",
      "only showing top 20 rows\n",
      "\n"
     ]
    }
   ],
   "source": [
    "park_anamnesis = park_anamnesis.withColumn(\"disease_duration\", (f.col('Age') - f.col('Age_of_disease_onset')))\n",
    "park_anamnesis.select('Gender','disease_duration').show()"
   ]
  },
  {
   "cell_type": "markdown",
   "id": "8e0050dc",
   "metadata": {},
   "source": [
    "### What medicine is common among female patients?"
   ]
  },
  {
   "cell_type": "code",
   "execution_count": 432,
   "id": "6bfbc337",
   "metadata": {
    "scrolled": true
   },
   "outputs": [
    {
     "name": "stdout",
     "output_type": "stream",
     "text": [
      "root\n",
      " |-- Participant_code: string (nullable = true)\n",
      " |-- Antidepressant_therapy: string (nullable = true)\n",
      " |-- Antiparkinsonian_medication: string (nullable = true)\n",
      " |-- Antipsychotic_medication: string (nullable = true)\n",
      " |-- Benzodiazepine_medication: string (nullable = true)\n",
      " |-- Levodopa_equivalent_(mg/day): string (nullable = true)\n",
      " |-- Clonazepam_(mg/day): string (nullable = true)\n",
      "\n"
     ]
    }
   ],
   "source": [
    "#create new datafreme with medicine\n",
    "park_medicine = final_df.select('Participant_code', \n",
    "                                'Antidepressant_therapy',\n",
    "                               'Antiparkinsonian_medication',\n",
    "                               'Antipsychotic_medication',\n",
    "                               'Benzodiazepine_medication',\n",
    "                               'Levodopa_equivalent_(mg/day)',\n",
    "                               'Clonazepam_(mg/day)')\n",
    "park_medicine.printSchema()\n"
   ]
  },
  {
   "cell_type": "code",
   "execution_count": 433,
   "id": "305484a8",
   "metadata": {},
   "outputs": [
    {
     "name": "stdout",
     "output_type": "stream",
     "text": [
      "root\n",
      " |-- Participant_code: string (nullable = true)\n",
      " |-- Antidepressant_therapy: string (nullable = true)\n",
      " |-- Antiparkinsonian_medication: string (nullable = true)\n",
      " |-- Antipsychotic_medication: string (nullable = true)\n",
      " |-- Benzodiazepine_medication: string (nullable = true)\n",
      " |-- Levodopa_equivalent: string (nullable = true)\n",
      " |-- Clonazepam: string (nullable = true)\n",
      "\n"
     ]
    }
   ],
   "source": [
    "#rename columns\n",
    "park_medicine = park_medicine.withColumnRenamed('Levodopa_equivalent_(mg/day)', 'Levodopa_equivalent')\\\n",
    ".withColumnRenamed('Clonazepam_(mg/day)', 'Clonazepam')\n",
    "park_medicine.printSchema()"
   ]
  },
  {
   "cell_type": "code",
   "execution_count": 434,
   "id": "244e9117",
   "metadata": {},
   "outputs": [],
   "source": [
    "female_dataset = park_anamnesis.filter(f.col('Gender')=='F')"
   ]
  },
  {
   "cell_type": "code",
   "execution_count": 435,
   "id": "77ca947f",
   "metadata": {},
   "outputs": [
    {
     "name": "stdout",
     "output_type": "stream",
     "text": [
      "root\n",
      " |-- Participant_code: string (nullable = true)\n",
      " |-- Age_(years): string (nullable = true)\n",
      " |-- Gender: string (nullable = true)\n",
      " |-- Positive_history_of_Parkinson_disease_in_family: string (nullable = true)\n",
      " |-- Age_of_disease_onset_(years): string (nullable = true)\n",
      " |-- Age: integer (nullable = true)\n",
      " |-- Age_of_disease_onset: integer (nullable = true)\n",
      " |-- disease_duration: integer (nullable = true)\n",
      " |-- Antidepressant_therapy: string (nullable = true)\n",
      " |-- Antiparkinsonian_medication: string (nullable = true)\n",
      " |-- Antipsychotic_medication: string (nullable = true)\n",
      " |-- Benzodiazepine_medication: string (nullable = true)\n",
      " |-- Levodopa_equivalent: string (nullable = true)\n",
      " |-- Clonazepam: string (nullable = true)\n",
      "\n"
     ]
    }
   ],
   "source": [
    "female_medicine = female_dataset.join(park_medicine, on='Participant_code').printSchema()"
   ]
  },
  {
   "cell_type": "code",
   "execution_count": 436,
   "id": "9bcc687c",
   "metadata": {},
   "outputs": [
    {
     "name": "stdout",
     "output_type": "stream",
     "text": [
      "+----------------+-----------+------+-----------------------------------------------+----------------------------+---+--------------------+----------------+----------------------+---------------------------+------------------------+-------------------------+-------------------+----------+\n",
      "|Participant_code|Age_(years)|Gender|Positive_history_of_Parkinson_disease_in_family|Age_of_disease_onset_(years)|Age|Age_of_disease_onset|disease_duration|Antidepressant_therapy|Antiparkinsonian_medication|Antipsychotic_medication|Benzodiazepine_medication|Levodopa_equivalent|Clonazepam|\n",
      "+----------------+-----------+------+-----------------------------------------------+----------------------------+---+--------------------+----------------+----------------------+---------------------------+------------------------+-------------------------+-------------------+----------+\n",
      "|            PD01|         58|     F|                                             No|                          56| 58|                  56|               2|                    No|                         No|                      No|                       No|                  0|         0|\n",
      "|            PD02|         68|     F|                                             No|                          67| 68|                  67|               1|                    No|                         No|                      No|                       No|                  0|         0|\n",
      "|            PD08|         59|     F|                                             No|                          57| 59|                  57|               2|       Yes  (Aurorix) |                         No|                      No|                       No|                  0|         0|\n",
      "|            PD12|         37|     F|                                             No|                          32| 37|                  32|               5|                    No|                         No|                      No|                       No|                  0|         0|\n",
      "|            PD15|         75|     F|                                             No|                          73| 75|                  73|               2|                    No|                         No|                      No|                       No|                  0|         0|\n",
      "|            PD16|         64|     F|                                             No|                          63| 64|                  63|               1|                    No|                         No|                      No|         Yes  (Rivotril) |                  0|       0.5|\n",
      "|            PD17|         73|     F|                                             No|                          71| 73|                  71|               2|                    No|                         No|                      No|                       No|                  0|         0|\n",
      "|            PD23|         73|     F|                                             No|                          71| 73|                  71|               2|                    No|                         No|                      No|                       No|                  0|         0|\n",
      "|            PD26|         68|     F|                                             No|                          67| 68|                  67|               1|                    No|                         No|                      No|         Yes  (Rivotril) |                  0|         1|\n",
      "|           RBD01|         73|     F|                                             No|                          72| 73|                  72|               1|                    No|                         No|                      No|         Yes  (Rivotril) |                  0|     0.125|\n",
      "|           RBD06|         71|     F|                                             No|                          66| 71|                  66|               5|                    No|                         No|                      No|         Yes  (Rivotril) |                  0|       0.5|\n",
      "|           RBD13|         67|     F|                                             No|                          63| 67|                  63|               4|                    No|                         No|                      No|                       No|                  0|         0|\n",
      "|           RBD17|         69|     F|                                             No|                          61| 69|                  61|               8|                    No|                         No|                      No|                       No|                  0|         0|\n",
      "|           RBD18|         57|     F|                                             No|                          56| 57|                  56|               1|                    No|                         No|                      No|                       No|                  0|         0|\n",
      "|           RBD31|         67|     F|                                             No|                          62| 67|                  62|               5|                    No|                         No|                      No|         Yes  (Rivotril) |                  0|     0.125|\n",
      "|           RBD33|         69|     F|                                            Yes|                          67| 69|                  67|               2|       Yes  (Velaxin) |                         No|                      No|                       No|                  0|         0|\n",
      "|           RBD48|         72|     F|                                             No|                          69| 72|                  69|               3|                    No|                         No|                      No|                       No|                  0|         0|\n",
      "|           RBD50|         40|     F|                                             No|                          33| 40|                  33|               7|      Yes  (Cipralex) |                         No|                      No|           Yes  (Neurol) |                  0|         0|\n",
      "|            HC10|         74|     F|                                              -|                           -| 74|                null|            null|                    No|                         No|                      No|                       No|                  0|         0|\n",
      "|            HC13|         74|     F|                                              -|                           -| 74|                null|            null|                    No|                         No|                      No|                       No|                  0|         0|\n",
      "+----------------+-----------+------+-----------------------------------------------+----------------------------+---+--------------------+----------------+----------------------+---------------------------+------------------------+-------------------------+-------------------+----------+\n",
      "only showing top 20 rows\n",
      "\n"
     ]
    }
   ],
   "source": [
    "female_medicine = female_dataset.join(park_medicine, on='Participant_code')\n",
    "female_medicine.show()"
   ]
  },
  {
   "cell_type": "code",
   "execution_count": 437,
   "id": "9df318d2",
   "metadata": {
    "scrolled": true
   },
   "outputs": [
    {
     "name": "stdout",
     "output_type": "stream",
     "text": [
      "+----------------------+---------------------------+------------------------+-------------------------+-------------------+----------+\n",
      "|Antidepressant_therapy|Antiparkinsonian_medication|Antipsychotic_medication|Benzodiazepine_medication|Levodopa_equivalent|Clonazepam|\n",
      "+----------------------+---------------------------+------------------------+-------------------------+-------------------+----------+\n",
      "|                    No|                         No|                      No|                       No|                  0|         0|\n",
      "|                    No|                         No|                      No|                       No|                  0|         0|\n",
      "|       Yes  (Aurorix) |                         No|                      No|                       No|                  0|         0|\n",
      "|                    No|                         No|                      No|                       No|                  0|         0|\n",
      "|                    No|                         No|                      No|                       No|                  0|         0|\n",
      "|                    No|                         No|                      No|         Yes  (Rivotril) |                  0|       0.5|\n",
      "|                    No|                         No|                      No|                       No|                  0|         0|\n",
      "|                    No|                         No|                      No|                       No|                  0|         0|\n",
      "|                    No|                         No|                      No|         Yes  (Rivotril) |                  0|         1|\n",
      "|                    No|                         No|                      No|         Yes  (Rivotril) |                  0|     0.125|\n",
      "|                    No|                         No|                      No|         Yes  (Rivotril) |                  0|       0.5|\n",
      "|                    No|                         No|                      No|                       No|                  0|         0|\n",
      "|                    No|                         No|                      No|                       No|                  0|         0|\n",
      "|                    No|                         No|                      No|                       No|                  0|         0|\n",
      "|                    No|                         No|                      No|         Yes  (Rivotril) |                  0|     0.125|\n",
      "|       Yes  (Velaxin) |                         No|                      No|                       No|                  0|         0|\n",
      "|                    No|                         No|                      No|                       No|                  0|         0|\n",
      "|      Yes  (Cipralex) |                         No|                      No|           Yes  (Neurol) |                  0|         0|\n",
      "|                    No|                         No|                      No|                       No|                  0|         0|\n",
      "|                    No|                         No|                      No|                       No|                  0|         0|\n",
      "+----------------------+---------------------------+------------------------+-------------------------+-------------------+----------+\n",
      "only showing top 20 rows\n",
      "\n"
     ]
    }
   ],
   "source": [
    "female_medicine.select('Antidepressant_therapy',\n",
    "                        'Antiparkinsonian_medication',\n",
    "                        'Antipsychotic_medication',\n",
    "                       'Benzodiazepine_medication',\n",
    "                       'Levodopa_equivalent',\n",
    "                       'Clonazepam').show()"
   ]
  },
  {
   "cell_type": "code",
   "execution_count": 438,
   "id": "cedab544",
   "metadata": {},
   "outputs": [
    {
     "name": "stdout",
     "output_type": "stream",
     "text": [
      "+----------------+--------------------+----------------+\n",
      "|Participant_code|             Medcine|           Total|\n",
      "+----------------+--------------------+----------------+\n",
      "|            PD01|Antidepressant_th...|               0|\n",
      "|            PD01|Antiparkinsonian_...|               0|\n",
      "|            PD01|Benzodiazepine_me...|               0|\n",
      "|            PD01| Levodopa_equivalent|               0|\n",
      "|            PD01|          Clonazepam|               0|\n",
      "|            PD01|                null|               0|\n",
      "|            PD02|Antidepressant_th...|               0|\n",
      "|            PD02|Antiparkinsonian_...|               0|\n",
      "|            PD02|Benzodiazepine_me...|               0|\n",
      "|            PD02| Levodopa_equivalent|               0|\n",
      "|            PD02|          Clonazepam|               0|\n",
      "|            PD02|                null|               0|\n",
      "|            PD08|Antidepressant_th...| Yes  (Aurorix) |\n",
      "|            PD08|Antiparkinsonian_...|               0|\n",
      "|            PD08|Benzodiazepine_me...|               0|\n",
      "|            PD08| Levodopa_equivalent|               0|\n",
      "|            PD08|          Clonazepam|               0|\n",
      "|            PD08|                null|               0|\n",
      "|            PD12|Antidepressant_th...|               0|\n",
      "|            PD12|Antiparkinsonian_...|               0|\n",
      "+----------------+--------------------+----------------+\n",
      "only showing top 20 rows\n",
      "\n"
     ]
    }
   ],
   "source": [
    "unPivotDF = female_medicine.select(\"Participant_code\",\n",
    "                                   expr(\"\"\"stack(6, 'Antidepressant_therapy', Antidepressant_therapy, \n",
    "                                        'Antiparkinsonian_medication', Antiparkinsonian_medication, \n",
    "                                        'Benzodiazepine_medication', Benzodiazepine_medication,\n",
    "                                        'Levodopa_equivalent', Levodopa_equivalent,\n",
    "                                        'Clonazepam', Clonazepam\n",
    "                                        ) as (Medcine,Total)\"\"\"))\n",
    "unPivotDF = unPivotDF.na.replace('No', '0').na.fill(value='0', subset=[\"Total\"])\n",
    "unPivotDF.show()"
   ]
  },
  {
   "cell_type": "code",
   "execution_count": 439,
   "id": "37bc0347",
   "metadata": {},
   "outputs": [
    {
     "name": "stdout",
     "output_type": "stream",
     "text": [
      "+--------------------+-----+\n",
      "|             Medcine|count|\n",
      "+--------------------+-----+\n",
      "|          Clonazepam|    5|\n",
      "|Benzodiazepine_me...|    6|\n",
      "|Antidepressant_th...|    3|\n",
      "+--------------------+-----+\n",
      "\n"
     ]
    }
   ],
   "source": [
    "medcine_df = unPivotDF.filter(f.col('Total') != '0').groupBy('Medcine').count()\n",
    "medcine_df.show()"
   ]
  },
  {
   "cell_type": "code",
   "execution_count": 440,
   "id": "72b9021e",
   "metadata": {
    "scrolled": true
   },
   "outputs": [
    {
     "name": "stdout",
     "output_type": "stream",
     "text": [
      "root\n",
      " |-- Medcine: string (nullable = true)\n",
      " |-- count: long (nullable = false)\n",
      "\n"
     ]
    }
   ],
   "source": [
    "medcine_df.printSchema()"
   ]
  },
  {
   "cell_type": "code",
   "execution_count": 444,
   "id": "26646707",
   "metadata": {},
   "outputs": [
    {
     "data": {
      "text/plain": [
       "Text(0, 0.5, 'Total amount of medcine')"
      ]
     },
     "execution_count": 444,
     "metadata": {},
     "output_type": "execute_result"
    },
    {
     "data": {
      "image/png": "[encoded data removed]",
      "text/plain": [
       "<Figure size 720x432 with 1 Axes>"
      ]
     },
     "metadata": {},
     "output_type": "display_data"
    }
   ],
   "source": [
    "plt.figure(figsize=(10,6))\n",
    "\n",
    "# Add title\n",
    "plt.title(\"Total amount of top-3 frequently used medcine among female patients \")\n",
    "\n",
    "# Bar chart showing average arrival delay for Spirit Airlines flights by month\n",
    "sns.set_theme(style=\"whitegrid\")\n",
    "sns.barplot(x='Medcine', y='count',data = medcine_df.toPandas())\n",
    "\n",
    "# Add label for vertical axis\n",
    "plt.ylabel(\"Total amount of medcine\")"
   ]
  },
  {
   "cell_type": "code",
   "execution_count": null,
   "id": "d6401464",
   "metadata": {},
   "outputs": [],
   "source": []
  },
  {
   "cell_type": "code",
   "execution_count": null,
   "id": "137a248a",
   "metadata": {},
   "outputs": [],
   "source": []
  }
 ],
 "metadata": {
  "kernelspec": {
   "display_name": "Python 3 (ipykernel)",
   "language": "python",
   "name": "python3"
  },
  "language_info": {
   "codemirror_mode": {
    "name": "ipython",
    "version": 3
   },
   "file_extension": ".py",
   "mimetype": "text/x-python",
   "name": "python",
   "nbconvert_exporter": "python",
   "pygments_lexer": "ipython3",
   "version": "3.10.1"
  }
 },
 "nbformat": 4,
 "nbformat_minor": 5
}
